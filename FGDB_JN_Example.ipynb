{
 "cells": [
  {
   "cell_type": "code",
   "execution_count": null,
   "metadata": {},
   "outputs": [],
   "source": [
    "import arcpy\n",
    "from arcpy import env\n",
    "import os\n",
    "from os import listdir\n",
    "from os.path import isfile, join\n",
    "import pandas as pd\n",
    "import pysal as ps\n",
    "import glob\n",
    "import shutil\n",
    "import pathlib\n",
    "from IPython.display import display"
   ]
  },
  {
   "cell_type": "code",
   "execution_count": null,
   "metadata": {},
   "outputs": [],
   "source": [
    "tempDir = \"C:\\TempAnalysis\"\n",
    "dataDir = \"C:\\TestData\""
   ]
  },
  {
   "cell_type": "code",
   "execution_count": null,
   "metadata": {},
   "outputs": [],
   "source": [
    "def buildTempWorkspace(tempDir):\n",
    "    if not os.path.exists(tempDir):\n",
    "        os.mkdir(tempDir)\n",
    "        print(\"Directory \" ,tempDir,  \" Created.\")\n",
    "    else:    \n",
    "        print(\"Directory \" ,tempDir,  \" already exists.\")"
   ]
  },
  {
   "cell_type": "code",
   "execution_count": null,
   "metadata": {},
   "outputs": [],
   "source": [
    "def buildAnalysisDatabaseList(dataDir):\n",
    "    env.workspace = dataDir\n",
    "    fgdbList = arcpy.ListWorkspaces(\"*\", \"FileGDB\")\n",
    "    return fgdbList"
   ]
  },
  {
   "cell_type": "code",
   "execution_count": null,
   "metadata": {},
   "outputs": [],
   "source": [
    "def buildAnalysisTables(fgdb,tempDir):\n",
    "    env.workspace = fgdb        \n",
    "    fcpList = []\n",
    "    dsList = arcpy.ListDatasets(feature_type='feature')\n",
    "    dsList = [''] + dsList if dsList is not None else []\n",
    "    for ds in dsList:\n",
    "        for fc in arcpy.ListFeatureClasses(feature_dataset=ds):\n",
    "            path = os.path.join(fgdb, ds, fc)\n",
    "            fcpList.append(path)\n",
    "    fgdbDirName = os.path.splitext(os.path.basename(fgdb))[0]\n",
    "    fgdbDirPath = os.path.join(tempDir,fgdbDirName)\n",
    "    if not os.path.exists(fgdbDirPath):\n",
    "        os.mkdir(fgdbDirPath)\n",
    "        print(\"Directory \" ,fgdbDirPath,  \" created. \")\n",
    "    else:    \n",
    "        print(\"Directory \" ,fgdbDirPath,  \" already exists.\")\n",
    "    for fcp in fcpList:\n",
    "        print(fcp)\n",
    "        arcpy.TableToTable_conversion(fcp, fgdbDirPath,os.path.splitext(os.path.basename(fcp))[0])"
   ]
  },
  {
   "cell_type": "code",
   "execution_count": null,
   "metadata": {},
   "outputs": [],
   "source": [
    "def buildDBFPList(fgdb):\n",
    "    dbfpList = []\n",
    "    fgdbDirName = os.path.splitext(os.path.basename(fgdb))[0]\n",
    "    fgdbDirPath = os.path.join(tempDir,fgdbDirName)\n",
    "    for p in pathlib.Path(fgdbDirPath).glob('*.dbf'):\n",
    "        if p.is_file():\n",
    "            dbfpList.append(str(p))\n",
    "    return(dbfpList)"
   ]
  },
  {
   "cell_type": "code",
   "execution_count": null,
   "metadata": {},
   "outputs": [],
   "source": [
    "def dbf2DF(dbfp, upper=True):\n",
    "    db = ps.open(dbfp)\n",
    "    d = {col: db.by_col(col) for col in db.header}\n",
    "    pandasDF = pd.DataFrame(d)\n",
    "    if upper == True:\n",
    "        pandasDF.columns = map(str.upper, db.header) \n",
    "    db.close()\n",
    "    return pandasDF"
   ]
  },
  {
   "cell_type": "code",
   "execution_count": null,
   "metadata": {},
   "outputs": [],
   "source": [
    "def dbfIterate(dbfpList):\n",
    "    for dbfp in dbfpList:\n",
    "        print(os.path.splitext(os.path.basename(dbfp))[0])\n",
    "        thisDF = (dbf2DF(dbfp, upper=True))\n",
    "        cleanThisDF = thisDF.dropna()\n",
    "        display(cleanThisDF)"
   ]
  },
  {
   "cell_type": "code",
   "execution_count": null,
   "metadata": {},
   "outputs": [],
   "source": [
    "def fgdbIterate(fgdbList):\n",
    "    print(\"Found the following FGDBs: \",fgdbList)\n",
    "    for fgdb in fgdbList:\n",
    "        buildAnalysisTables(fgdb,tempDir)\n",
    "        dbfIterate(buildDBFPList(fgdb))"
   ]
  },
  {
   "cell_type": "code",
   "execution_count": null,
   "metadata": {},
   "outputs": [],
   "source": [
    "def cleanupTempWorkspace(tempDir):\n",
    "    if not os.path.exists(tempDir):\n",
    "        print(\"Directory \" ,tempDir,  \" not present.\")\n",
    "    else:\n",
    "        shutil.rmtree(tempDir)\n",
    "        print(\"Directory \" ,tempDir,  \" cleaned up.\")"
   ]
  },
  {
   "cell_type": "code",
   "execution_count": null,
   "metadata": {},
   "outputs": [],
   "source": [
    "buildTempWorkspace(tempDir)\n",
    "buildAnalysisDatabaseList(dataDir)\n",
    "fgdbIterate(buildAnalysisDatabaseList(dataDir))\n",
    "cleanupTempWorkspace(tempDir)"
   ]
  },
  {
   "cell_type": "code",
   "execution_count": null,
   "metadata": {},
   "outputs": [],
   "source": []
  }
 ],
 "metadata": {
  "kernelspec": {
   "display_name": "Python 3",
   "language": "python",
   "name": "python3"
  },
  "language_info": {
   "codemirror_mode": {
    "name": "ipython",
    "version": 3
   },
   "file_extension": ".py",
   "mimetype": "text/x-python",
   "name": "python",
   "nbconvert_exporter": "python",
   "pygments_lexer": "ipython3",
   "version": "3.6.6"
  }
 },
 "nbformat": 4,
 "nbformat_minor": 2
}
